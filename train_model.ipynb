{
  "nbformat": 4,
  "nbformat_minor": 0,
  "metadata": {
    "colab": {
      "name": "train_model.ipynb",
      "provenance": [],
      "collapsed_sections": [
        "tvOGUETjysQa",
        "KJIbB4DB7SEp",
        "u4oSCubu13bJ",
        "44wr4aw82Gnk"
      ],
      "toc_visible": true,
      "authorship_tag": "ABX9TyOLEjDQWNhlNPGXCw0CsJwO",
      "include_colab_link": true
    },
    "kernelspec": {
      "name": "python3",
      "display_name": "Python 3"
    },
    "accelerator": "GPU"
  },
  "cells": [
    {
      "cell_type": "markdown",
      "metadata": {
        "id": "view-in-github",
        "colab_type": "text"
      },
      "source": [
        "<a href=\"https://colab.research.google.com/github/dminhq98/implement_deep_network/blob/master/train_model.ipynb\" target=\"_parent\"><img src=\"https://colab.research.google.com/assets/colab-badge.svg\" alt=\"Open In Colab\"/></a>"
      ]
    },
    {
      "cell_type": "markdown",
      "metadata": {
        "id": "McdcdliBvI7M",
        "colab_type": "text"
      },
      "source": [
        "# Dataset"
      ]
    },
    {
      "cell_type": "code",
      "metadata": {
        "id": "uHEIhb1Jsyli",
        "colab_type": "code",
        "outputId": "6d0f7d3d-708a-4396-f13e-c3a3e46588c2",
        "colab": {
          "base_uri": "https://localhost:8080/",
          "height": 34
        }
      },
      "source": [
        "!pip install googledrivedownloader"
      ],
      "execution_count": 0,
      "outputs": [
        {
          "output_type": "stream",
          "text": [
            "Requirement already satisfied: googledrivedownloader in /usr/local/lib/python3.6/dist-packages (0.4)\n"
          ],
          "name": "stdout"
        }
      ]
    },
    {
      "cell_type": "code",
      "metadata": {
        "id": "xNxw5RDXtdHw",
        "colab_type": "code",
        "outputId": "ac0e6099-5296-4ac6-839d-73e205d797e6",
        "colab": {
          "base_uri": "https://localhost:8080/",
          "height": 51
        }
      },
      "source": [
        "from google_drive_downloader import GoogleDriveDownloader as gdd\n",
        "\n",
        "gdd.download_file_from_google_drive(file_id='1lKnNhzH4nZ_KYpLW2cbPIWSotc9bSD-k',\n",
        "                                    dest_path='./prod_24042020.zip',\n",
        "                                    unzip=True)"
      ],
      "execution_count": 0,
      "outputs": [
        {
          "output_type": "stream",
          "text": [
            "Downloading 1lKnNhzH4nZ_KYpLW2cbPIWSotc9bSD-k into ./prod_24042020.zip... Done.\n",
            "Unzipping...Done.\n"
          ],
          "name": "stdout"
        }
      ]
    },
    {
      "cell_type": "code",
      "metadata": {
        "id": "J2zogM60tggr",
        "colab_type": "code",
        "outputId": "898107a0-4a3f-45e2-fc5c-73a030bdc8e5",
        "colab": {
          "base_uri": "https://localhost:8080/",
          "height": 51
        }
      },
      "source": [
        "from google_drive_downloader import GoogleDriveDownloader as gdd\n",
        "\n",
        "gdd.download_file_from_google_drive(file_id='1is-Tko3BkqJd8WJ0T8_8p3xtVjbQYDiV',\n",
        "                                    dest_path='./bank_transaction_and_others.zip',\n",
        "                                    unzip=True)"
      ],
      "execution_count": 0,
      "outputs": [
        {
          "output_type": "stream",
          "text": [
            "Downloading 1is-Tko3BkqJd8WJ0T8_8p3xtVjbQYDiV into ./bank_transaction_and_others.zip... Done.\n",
            "Unzipping...Done.\n"
          ],
          "name": "stdout"
        }
      ]
    },
    {
      "cell_type": "code",
      "metadata": {
        "id": "y6zV4x8KujKD",
        "colab_type": "code",
        "colab": {}
      },
      "source": [
        "!mv /content/bank_transaction_and_others /content/cls_axiom"
      ],
      "execution_count": 0,
      "outputs": []
    },
    {
      "cell_type": "code",
      "metadata": {
        "id": "MB5FZf_ovzwe",
        "colab_type": "code",
        "colab": {}
      },
      "source": [
        "import torch, torchvision\n",
        "from torchvision import datasets, models, transforms\n",
        "import torch.nn as nn\n",
        "import torch.optim as optim\n",
        "from torch.utils.data import DataLoader\n",
        "import time\n",
        "from torchsummary import summary\n",
        "from tqdm import tqdm\n",
        "from torchvision.datasets.folder import default_loader\n",
        "import numpy as np\n",
        "import matplotlib.pyplot as plt\n",
        "import os\n",
        "import shutil\n",
        "from PIL import Image\n",
        "FJoin = os.path.join\n"
      ],
      "execution_count": 0,
      "outputs": []
    },
    {
      "cell_type": "code",
      "metadata": {
        "id": "4r5Lr_CI1Bc2",
        "colab_type": "code",
        "colab": {}
      },
      "source": [
        "class ImageList:\n",
        "    \"\"\"\n",
        "    Get the list of image files and check them in the directory directory\n",
        "    \"\"\"\n",
        "\n",
        "    def check_list_image(self, list_images):\n",
        "        \"\"\"\n",
        "        Check a list of image files, if the image fails then move it to the error_image directory.\n",
        "        \"\"\"\n",
        "        if not os.path.exists('error_image'):\n",
        "            os.makedirs('error_image')\n",
        "        for p in list_images:\n",
        "            try:\n",
        "                Image.open(p)\n",
        "            except IOError:\n",
        "                path_err = 'error_image'\n",
        "                shutil.move(p, path_err)\n",
        "                print(\"file {} error.\".format(p))\n",
        "\n",
        "    def get_list_image(self, path):\n",
        "        \"\"\"\n",
        "        Get a list of image files in a directory.\n",
        "        \"\"\"\n",
        "        file_list = []\n",
        "        for dir, subdirs, files in os.walk(path):\n",
        "            file_list.extend([FJoin(dir, f) for f in files])\n",
        "        file_list = filter(lambda x: not os.path.islink(x), file_list)\n",
        "        self.check_list_image(file_list)\n",
        "        file_list, dir_list = [], []\n",
        "        for dir, subdirs, files in os.walk(path):\n",
        "            file_list.extend([FJoin(dir, f) for f in files])\n",
        "            dir_list.extend([FJoin(dir, d) for d in subdirs])\n",
        "        file_list = filter(lambda x: not os.path.islink(x), file_list)\n",
        "        dir_list = filter(lambda x: not os.path.islink(x), dir_list)\n",
        "        return list(file_list), list(dir_list)\n"
      ],
      "execution_count": 0,
      "outputs": []
    },
    {
      "cell_type": "code",
      "metadata": {
        "id": "yCJf2-FawTXk",
        "colab_type": "code",
        "outputId": "a7e1b8f7-5696-4c86-9851-d63777363804",
        "colab": {
          "base_uri": "https://localhost:8080/",
          "height": 34
        }
      },
      "source": [
        "data = ImageList()\n",
        "images, _ = data.get_list_image('/content/cls_axiom')\n",
        "len(images)"
      ],
      "execution_count": 0,
      "outputs": [
        {
          "output_type": "execute_result",
          "data": {
            "text/plain": [
              "7603"
            ]
          },
          "metadata": {
            "tags": []
          },
          "execution_count": 6
        }
      ]
    },
    {
      "cell_type": "code",
      "metadata": {
        "id": "5EEZtxrnwcco",
        "colab_type": "code",
        "outputId": "653278f5-30b1-436d-9fb5-962210bff9f5",
        "colab": {
          "base_uri": "https://localhost:8080/",
          "height": 34
        }
      },
      "source": [
        "label = []\n",
        "for image_path in images:\n",
        "  class_ = image_path.split('/')[3]\n",
        "  label.append(class_)\n",
        "\n",
        "print(label[:5])"
      ],
      "execution_count": 0,
      "outputs": [
        {
          "output_type": "stream",
          "text": [
            "['xe_3_banh', 'xe_3_banh', 'xe_3_banh', 'xe_3_banh', 'xe_3_banh']\n"
          ],
          "name": "stdout"
        }
      ]
    },
    {
      "cell_type": "code",
      "metadata": {
        "id": "sMHv4VNNw0Ra",
        "colab_type": "code",
        "outputId": "7f207245-13e9-469a-df01-f3b181db7b7a",
        "colab": {
          "base_uri": "https://localhost:8080/",
          "height": 459
        }
      },
      "source": [
        "import collections\n",
        "label_counter = collections.Counter(label)\n",
        "num_classes = len(label_counter)\n",
        "label_counter, num_classes"
      ],
      "execution_count": 0,
      "outputs": [
        {
          "output_type": "execute_result",
          "data": {
            "text/plain": [
              "(Counter({'balo': 263,\n",
              "          'ban': 11,\n",
              "          'bank_transaction_and_others': 502,\n",
              "          'be_boi': 6,\n",
              "          'binh_sua': 223,\n",
              "          'cau_truot': 123,\n",
              "          'coc': 393,\n",
              "          'diu': 451,\n",
              "          'ghe_an': 546,\n",
              "          'ghe_o_to': 505,\n",
              "          'giuong': 87,\n",
              "          'ke': 146,\n",
              "          'may_hut_sua': 7,\n",
              "          'ngua_bap_benh': 10,\n",
              "          'noi': 272,\n",
              "          'phao': 298,\n",
              "          'quay': 15,\n",
              "          'tham': 124,\n",
              "          'thanh_chan_giuong': 644,\n",
              "          'thanh_noi_chan': 11,\n",
              "          'xe_3_banh': 70,\n",
              "          'xe_choi_chan': 149,\n",
              "          'xe_day': 1995,\n",
              "          'xe_tap_di': 409,\n",
              "          'yem': 343}),\n",
              " 25)"
            ]
          },
          "metadata": {
            "tags": []
          },
          "execution_count": 8
        }
      ]
    },
    {
      "cell_type": "code",
      "metadata": {
        "id": "xJJzlSd74ckJ",
        "colab_type": "code",
        "outputId": "0c99d778-395f-4f30-c8d4-c8cdc1247603",
        "colab": {
          "base_uri": "https://localhost:8080/",
          "height": 54
        }
      },
      "source": [
        "label_to_code = {}\n",
        "class_ = list(label_counter)\n",
        "for idx,i in enumerate(class_):\n",
        "  label_to_code[i] = idx\n",
        "\n",
        "print(label_to_code)"
      ],
      "execution_count": 0,
      "outputs": [
        {
          "output_type": "stream",
          "text": [
            "{'xe_3_banh': 0, 'ngua_bap_benh': 1, 'thanh_chan_giuong': 2, 'xe_tap_di': 3, 'phao': 4, 'coc': 5, 'giuong': 6, 'yem': 7, 'xe_choi_chan': 8, 'xe_day': 9, 'noi': 10, 'may_hut_sua': 11, 'binh_sua': 12, 'balo': 13, 'ban': 14, 'be_boi': 15, 'ke': 16, 'bank_transaction_and_others': 17, 'cau_truot': 18, 'ghe_an': 19, 'ghe_o_to': 20, 'quay': 21, 'diu': 22, 'thanh_noi_chan': 23, 'tham': 24}\n"
          ],
          "name": "stdout"
        }
      ]
    },
    {
      "cell_type": "code",
      "metadata": {
        "id": "OrLu8jUV5cys",
        "colab_type": "code",
        "outputId": "e344297a-9bf0-47fe-aae8-fb5eb9cd780c",
        "colab": {
          "base_uri": "https://localhost:8080/",
          "height": 34
        }
      },
      "source": [
        "code_label = []\n",
        "for i in label:\n",
        "  code_label.append(label_to_code[i])\n",
        "print(code_label[:5])"
      ],
      "execution_count": 0,
      "outputs": [
        {
          "output_type": "stream",
          "text": [
            "[0, 0, 0, 0, 0]\n"
          ],
          "name": "stdout"
        }
      ]
    },
    {
      "cell_type": "code",
      "metadata": {
        "id": "NokdJoQZxe0w",
        "colab_type": "code",
        "outputId": "8245a99c-89dd-43f6-f482-b07777617010",
        "colab": {
          "base_uri": "https://localhost:8080/",
          "height": 34
        }
      },
      "source": [
        "from sklearn.model_selection import train_test_split\n",
        "xTrain, xValid, yTrain, yValid = train_test_split(images, code_label,test_size = 0.2, random_state = 0)\n",
        "print(len(xTrain),':',len(xValid))"
      ],
      "execution_count": 0,
      "outputs": [
        {
          "output_type": "stream",
          "text": [
            "6082 : 1521\n"
          ],
          "name": "stdout"
        }
      ]
    },
    {
      "cell_type": "code",
      "metadata": {
        "id": "PIYLmvZcuDW-",
        "colab_type": "code",
        "colab": {}
      },
      "source": [
        "class ListDataset(torch.utils.data.Dataset):\n",
        "\n",
        "    def __init__(self,\n",
        "                 images_list,\n",
        "                 label,\n",
        "                 transform=None,\n",
        "                 loader=default_loader):\n",
        "        self.images_list = images_list\n",
        "        self.label = label\n",
        "        self.loader = loader\n",
        "        self.transform = transform\n",
        "\n",
        "    def __getitem__(self, index):\n",
        "        image_path = self.images_list[index]\n",
        "        image_label = self.label[index]\n",
        "        image = self.loader(image_path)\n",
        "        if self.transform is not None:\n",
        "            image = self.transform(image)\n",
        "        return image, image_label\n",
        "\n",
        "    def __len__(self):\n",
        "        return len(self.images_list)"
      ],
      "execution_count": 0,
      "outputs": []
    },
    {
      "cell_type": "code",
      "metadata": {
        "id": "Jwtr_Yb_uMT7",
        "colab_type": "code",
        "colab": {}
      },
      "source": [
        "# Applying Transforms to the Data\n",
        "image_transforms = { \n",
        "    'train': transforms.Compose([\n",
        "        transforms.RandomResizedCrop(size=256, scale=(0.8, 1.0)),\n",
        "        transforms.RandomRotation(degrees=15),\n",
        "        transforms.RandomHorizontalFlip(),\n",
        "        transforms.CenterCrop(size=224),\n",
        "        transforms.ToTensor(),\n",
        "        transforms.Normalize([0.485, 0.456, 0.406],\n",
        "                             [0.229, 0.224, 0.225])\n",
        "    ]),\n",
        "    'valid': transforms.Compose([\n",
        "        transforms.Resize(size=256),\n",
        "        transforms.CenterCrop(size=224),\n",
        "        transforms.ToTensor(),\n",
        "        transforms.Normalize([0.485, 0.456, 0.406],\n",
        "                             [0.229, 0.224, 0.225])\n",
        "    ]),\n",
        "    'test': transforms.Compose([\n",
        "        transforms.Resize(size=256),\n",
        "        transforms.CenterCrop(size=224),\n",
        "        transforms.ToTensor(),\n",
        "        transforms.Normalize([0.485, 0.456, 0.406],\n",
        "                             [0.229, 0.224, 0.225])\n",
        "    ])\n",
        "}"
      ],
      "execution_count": 0,
      "outputs": []
    },
    {
      "cell_type": "code",
      "metadata": {
        "id": "_KpD27xwuO5K",
        "colab_type": "code",
        "outputId": "f9f4e83c-2752-456f-cae7-04377ecc4be7",
        "colab": {
          "base_uri": "https://localhost:8080/",
          "height": 34
        }
      },
      "source": [
        "# Batch size\n",
        "bs = 32\n",
        " \n",
        "\n",
        "data = {\n",
        "    'train': ListDataset(xTrain, yTrain, transform=image_transforms['train']),\n",
        "    'valid': ListDataset(xValid, yValid, transform=image_transforms['valid']),\n",
        "}\n",
        "train_data_size = len(data['train'])\n",
        "valid_data_size = len(data['valid'])\n",
        "\n",
        "train_data_loader = DataLoader(data['train'], batch_size=bs, shuffle=True)\n",
        "valid_data_loader = DataLoader(data['valid'], batch_size=bs, shuffle=True)\n",
        "\n",
        "# Print the train, validation and test set data sizes\n",
        "train_data_size, valid_data_size"
      ],
      "execution_count": 0,
      "outputs": [
        {
          "output_type": "execute_result",
          "data": {
            "text/plain": [
              "(6082, 1521)"
            ]
          },
          "metadata": {
            "tags": []
          },
          "execution_count": 14
        }
      ]
    },
    {
      "cell_type": "markdown",
      "metadata": {
        "id": "tvOGUETjysQa",
        "colab_type": "text"
      },
      "source": [
        "# Fine-Tuning Resnet50 model"
      ]
    },
    {
      "cell_type": "code",
      "metadata": {
        "id": "De_41WwvuT_V",
        "colab_type": "code",
        "colab": {}
      },
      "source": [
        "# Load pretrained ResNet50 Model\n",
        "resnet50 = models.resnet50(pretrained=True)\n",
        "# print(resnet50)"
      ],
      "execution_count": 0,
      "outputs": []
    },
    {
      "cell_type": "code",
      "metadata": {
        "id": "rm4e8Lq_zz9K",
        "colab_type": "code",
        "colab": {}
      },
      "source": [
        "count = 0\n",
        "for child in resnet50.children():\n",
        "  count+=1\n",
        "  if count < 5:\n",
        "    for param in child.parameters():\n",
        "      param.requires_grad = False"
      ],
      "execution_count": 0,
      "outputs": []
    },
    {
      "cell_type": "code",
      "metadata": {
        "id": "i66w4Ice0cpS",
        "colab_type": "code",
        "outputId": "f6f11cf5-4841-4bb8-dfdc-1e1a02f34bd7",
        "colab": {
          "base_uri": "https://localhost:8080/",
          "height": 34
        }
      },
      "source": [
        "# Change the final layer of ResNet50 Model for Transfer Learning\n",
        "fc_inputs = resnet50.fc.in_features\n",
        " \n",
        "resnet50.fc = nn.Sequential(\n",
        "    nn.Linear(in_features=fc_inputs, out_features=num_classes, bias=True),\n",
        "    nn.LogSoftmax(dim=1)\n",
        ")\n",
        "\n",
        "device = torch.device(\"cuda:0\" if torch.cuda.is_available() else \"cpu\")\n",
        "# Convert model to be used on GPU\n",
        "resnet50 = resnet50.to(device)\n",
        "print(device)\n",
        "# Define Optimizer and Loss Function\n",
        "# loss_func = nn.CrossEntropyLoss()\n",
        "loss_func = nn.NLLLoss()\n",
        "optimizer = optim.Adam(resnet50.parameters())"
      ],
      "execution_count": 0,
      "outputs": [
        {
          "output_type": "stream",
          "text": [
            "cuda:0\n"
          ],
          "name": "stdout"
        }
      ]
    },
    {
      "cell_type": "code",
      "metadata": {
        "id": "PXGI0t4P1K8f",
        "colab_type": "code",
        "colab": {}
      },
      "source": [
        "print(resnet50)"
      ],
      "execution_count": 0,
      "outputs": []
    },
    {
      "cell_type": "code",
      "metadata": {
        "id": "thdfKfX31srD",
        "colab_type": "code",
        "colab": {}
      },
      "source": [
        "dataset = 'cls_axiom'\n",
        "def train_and_validate(model, loss_criterion, optimizer, epochs=25):\n",
        "    '''\n",
        "    Function to train and validate\n",
        "    Parameters\n",
        "        :param model: Model to train and validate\n",
        "        :param loss_criterion: Loss Criterion to minimize\n",
        "        :param optimizer: Optimizer for computing gradients\n",
        "        :param epochs: Number of epochs (default=25)\n",
        "  \n",
        "    Returns\n",
        "        model: Trained Model with best validation accuracy\n",
        "        history: (dict object): Having training loss, accuracy and validation loss, accuracy\n",
        "    '''\n",
        "    \n",
        "    start = time.time()\n",
        "    history = []\n",
        "    best_acc = 0.0\n",
        "    \n",
        "    for epoch in range(epochs):\n",
        "        epoch_start = time.time()\n",
        "        print(\"Epoch: {}/{}\".format(epoch+1, epochs))\n",
        "        \n",
        "        # Set to training mode\n",
        "        model.train()\n",
        "        \n",
        "        # Loss and Accuracy within the epoch\n",
        "        train_loss = 0.0\n",
        "        train_acc = 0.0\n",
        "        \n",
        "        valid_loss = 0.0\n",
        "        valid_acc = 0.0\n",
        "        \n",
        "        for i, (inputs, labels) in enumerate(train_data_loader):\n",
        "\n",
        "            inputs = inputs.to(device)\n",
        "            labels = labels.to(device)\n",
        "            \n",
        "            # Clean existing gradients\n",
        "            optimizer.zero_grad()\n",
        "            \n",
        "            # Forward pass - compute outputs on input data using the model\n",
        "            outputs = model(inputs)\n",
        "            \n",
        "            # Compute loss\n",
        "            loss = loss_criterion(outputs, labels)\n",
        "            \n",
        "            # Backpropagate the gradients\n",
        "            loss.backward()\n",
        "            \n",
        "            # Update the parameters\n",
        "            optimizer.step()\n",
        "            \n",
        "            # Compute the total loss for the batch and add it to train_loss\n",
        "            train_loss += loss.item() * inputs.size(0)\n",
        "            \n",
        "            # Compute the accuracy\n",
        "            ret, predictions = torch.max(outputs.data, 1)\n",
        "            correct_counts = predictions.eq(labels.data.view_as(predictions))\n",
        "            \n",
        "            # Convert correct_counts to float and then compute the mean\n",
        "            acc = torch.mean(correct_counts.type(torch.FloatTensor))\n",
        "            \n",
        "            # Compute total accuracy in the whole batch and add to train_acc\n",
        "            train_acc += acc.item() * inputs.size(0)\n",
        "            \n",
        "            #print(\"Batch number: {:03d}, Training: Loss: {:.4f}, Accuracy: {:.4f}\".format(i, loss.item(), acc.item()))\n",
        "\n",
        "            \n",
        "        # Validation - No gradient tracking needed\n",
        "        with torch.no_grad():\n",
        "\n",
        "            # Set to evaluation mode\n",
        "            model.eval()\n",
        "\n",
        "            # Validation loop\n",
        "            for j, (inputs, labels) in enumerate(valid_data_loader):\n",
        "                inputs = inputs.to(device)\n",
        "                labels = labels.to(device)\n",
        "\n",
        "                # Forward pass - compute outputs on input data using the model\n",
        "                outputs = model(inputs)\n",
        "\n",
        "                # Compute loss\n",
        "                loss = loss_criterion(outputs, labels)\n",
        "\n",
        "                # Compute the total loss for the batch and add it to valid_loss\n",
        "                valid_loss += loss.item() * inputs.size(0)\n",
        "\n",
        "                # Calculate validation accuracy\n",
        "                ret, predictions = torch.max(outputs.data, 1)\n",
        "                correct_counts = predictions.eq(labels.data.view_as(predictions))\n",
        "\n",
        "                # Convert correct_counts to float and then compute the mean\n",
        "                acc = torch.mean(correct_counts.type(torch.FloatTensor))\n",
        "\n",
        "                # Compute total accuracy in the whole batch and add to valid_acc\n",
        "                valid_acc += acc.item() * inputs.size(0)\n",
        "\n",
        "                #print(\"Validation Batch number: {:03d}, Validation: Loss: {:.4f}, Accuracy: {:.4f}\".format(j, loss.item(), acc.item()))\n",
        "            \n",
        "        # Find average training loss and training accuracy\n",
        "        avg_train_loss = train_loss/train_data_size \n",
        "        avg_train_acc = train_acc/train_data_size\n",
        "\n",
        "        # Find average training loss and training accuracy\n",
        "        avg_valid_loss = valid_loss/valid_data_size \n",
        "        avg_valid_acc = valid_acc/valid_data_size\n",
        "\n",
        "        history.append([avg_train_loss, avg_valid_loss, avg_train_acc, avg_valid_acc])\n",
        "                \n",
        "        epoch_end = time.time()\n",
        "    \n",
        "        print(\"Epoch : {:03d}, Training: Loss: {:.4f}, Accuracy: {:.4f}%, \\n\\t\\tValidation : Loss : {:.4f}, Accuracy: {:.4f}%, Time: {:.4f}s\".format(epoch, avg_train_loss, avg_train_acc*100, avg_valid_loss, avg_valid_acc*100, epoch_end-epoch_start))\n",
        "        \n",
        "        # Save if the model has best accuracy till now\n",
        "        # torch.save(model, dataset+'_model_'+str(epoch)+'.pt')\n",
        "            \n",
        "    return model, history"
      ],
      "execution_count": 0,
      "outputs": []
    },
    {
      "cell_type": "code",
      "metadata": {
        "id": "CrGH3iLQ9eCo",
        "colab_type": "code",
        "outputId": "9e3bdc17-a329-4550-a025-f0797a4f1f93",
        "colab": {
          "base_uri": "https://localhost:8080/",
          "height": 1000
        }
      },
      "source": [
        "device = torch.device(\"cuda:0\" if torch.cuda.is_available() else \"cpu\")\n",
        "\n",
        "# Print the model to be trained\n",
        "#summary(resnet50, input_size=(3, 224, 224), batch_size=bs, device='cuda')\n",
        "\n",
        "# Train the model for 30 epochs\n",
        "num_epochs = 30\n",
        "trained_model, history = train_and_validate(resnet50, loss_func, optimizer, num_epochs)\n",
        "\n",
        "torch.save(history, dataset+'_history.pt')"
      ],
      "execution_count": 0,
      "outputs": [
        {
          "output_type": "stream",
          "text": [
            "Epoch: 1/30\n",
            "Epoch : 000, Training: Loss: 1.0668, Accuracy: 70.4045%, \n",
            "\t\tValidation : Loss : 0.6741, Accuracy: 81.1308%, Time: 94.4000s\n",
            "Epoch: 2/30\n",
            "Epoch : 001, Training: Loss: 0.4420, Accuracy: 86.9451%, \n",
            "\t\tValidation : Loss : 0.6051, Accuracy: 82.1170%, Time: 92.9933s\n",
            "Epoch: 3/30\n",
            "Epoch : 002, Training: Loss: 0.3099, Accuracy: 90.6610%, \n",
            "\t\tValidation : Loss : 0.2203, Accuracy: 93.5569%, Time: 93.0450s\n",
            "Epoch: 4/30\n",
            "Epoch : 003, Training: Loss: 0.2469, Accuracy: 93.0122%, \n",
            "\t\tValidation : Loss : 0.5026, Accuracy: 85.9961%, Time: 92.3507s\n",
            "Epoch: 5/30\n",
            "Epoch : 004, Training: Loss: 0.2440, Accuracy: 92.8313%, \n",
            "\t\tValidation : Loss : 0.1843, Accuracy: 94.3458%, Time: 92.6857s\n",
            "Epoch: 6/30\n",
            "Epoch : 005, Training: Loss: 0.1967, Accuracy: 93.8178%, \n",
            "\t\tValidation : Loss : 0.2581, Accuracy: 92.3734%, Time: 92.5005s\n",
            "Epoch: 7/30\n",
            "Epoch : 006, Training: Loss: 0.1860, Accuracy: 94.2453%, \n",
            "\t\tValidation : Loss : 0.1651, Accuracy: 95.5950%, Time: 92.9056s\n",
            "Epoch: 8/30\n",
            "Epoch : 007, Training: Loss: 0.0879, Accuracy: 97.3200%, \n",
            "\t\tValidation : Loss : 0.1138, Accuracy: 96.6469%, Time: 92.9390s\n",
            "Epoch: 9/30\n",
            "Epoch : 008, Training: Loss: 0.1756, Accuracy: 94.6399%, \n",
            "\t\tValidation : Loss : 0.2273, Accuracy: 93.8199%, Time: 92.9405s\n",
            "Epoch: 10/30\n",
            "Epoch : 009, Training: Loss: 0.1086, Accuracy: 96.9747%, \n",
            "\t\tValidation : Loss : 0.2454, Accuracy: 92.1105%, Time: 93.3385s\n",
            "Epoch: 11/30\n",
            "Epoch : 010, Training: Loss: 0.0544, Accuracy: 98.4380%, \n",
            "\t\tValidation : Loss : 0.0994, Accuracy: 97.1729%, Time: 93.5588s\n",
            "Epoch: 12/30\n",
            "Epoch : 011, Training: Loss: 0.1315, Accuracy: 96.0704%, \n",
            "\t\tValidation : Loss : 0.1164, Accuracy: 97.1072%, Time: 93.5244s\n",
            "Epoch: 13/30\n",
            "Epoch : 012, Training: Loss: 0.0532, Accuracy: 98.4873%, \n",
            "\t\tValidation : Loss : 0.2274, Accuracy: 94.4116%, Time: 93.9254s\n",
            "Epoch: 14/30\n",
            "Epoch : 013, Training: Loss: 0.1466, Accuracy: 95.4291%, \n",
            "\t\tValidation : Loss : 0.0725, Accuracy: 97.5674%, Time: 94.3446s\n",
            "Epoch: 15/30\n",
            "Epoch : 014, Training: Loss: 0.1299, Accuracy: 96.1361%, \n",
            "\t\tValidation : Loss : 0.1201, Accuracy: 96.5812%, Time: 95.0615s\n",
            "Epoch: 16/30\n",
            "Epoch : 015, Training: Loss: 0.0914, Accuracy: 97.0898%, \n",
            "\t\tValidation : Loss : 0.1165, Accuracy: 97.2387%, Time: 94.0481s\n",
            "Epoch: 17/30\n",
            "Epoch : 016, Training: Loss: 0.0304, Accuracy: 99.1450%, \n",
            "\t\tValidation : Loss : 0.1340, Accuracy: 97.1729%, Time: 93.1842s\n",
            "Epoch: 18/30\n",
            "Epoch : 017, Training: Loss: 0.1436, Accuracy: 95.4785%, \n",
            "\t\tValidation : Loss : 0.2847, Accuracy: 91.8475%, Time: 93.0288s\n",
            "Epoch: 19/30\n",
            "Epoch : 018, Training: Loss: 0.0713, Accuracy: 97.9283%, \n",
            "\t\tValidation : Loss : 0.0920, Accuracy: 97.6331%, Time: 92.6325s\n",
            "Epoch: 20/30\n",
            "Epoch : 019, Training: Loss: 0.0533, Accuracy: 98.4545%, \n",
            "\t\tValidation : Loss : 0.1017, Accuracy: 97.5016%, Time: 92.2821s\n",
            "Epoch: 21/30\n",
            "Epoch : 020, Training: Loss: 0.0698, Accuracy: 98.0927%, \n",
            "\t\tValidation : Loss : 0.1139, Accuracy: 97.7646%, Time: 91.9928s\n",
            "Epoch: 22/30\n",
            "Epoch : 021, Training: Loss: 0.0420, Accuracy: 98.6518%, \n",
            "\t\tValidation : Loss : 0.1313, Accuracy: 96.7784%, Time: 91.9680s\n",
            "Epoch: 23/30\n",
            "Epoch : 022, Training: Loss: 0.0620, Accuracy: 98.0598%, \n",
            "\t\tValidation : Loss : 0.1229, Accuracy: 97.5016%, Time: 91.9361s\n",
            "Epoch: 24/30\n",
            "Epoch : 023, Training: Loss: 0.0725, Accuracy: 97.7968%, \n",
            "\t\tValidation : Loss : 0.1469, Accuracy: 96.1210%, Time: 91.9379s\n",
            "Epoch: 25/30\n",
            "Epoch : 024, Training: Loss: 0.1172, Accuracy: 96.7938%, \n",
            "\t\tValidation : Loss : 0.0764, Accuracy: 98.0934%, Time: 91.7743s\n",
            "Epoch: 26/30\n",
            "Epoch : 025, Training: Loss: 0.0595, Accuracy: 98.1914%, \n",
            "\t\tValidation : Loss : 0.1509, Accuracy: 95.9237%, Time: 91.8025s\n",
            "Epoch: 27/30\n",
            "Epoch : 026, Training: Loss: 0.0993, Accuracy: 97.1884%, \n",
            "\t\tValidation : Loss : 0.0913, Accuracy: 97.8961%, Time: 92.0939s\n",
            "Epoch: 28/30\n",
            "Epoch : 027, Training: Loss: 0.0618, Accuracy: 98.0598%, \n",
            "\t\tValidation : Loss : 0.1050, Accuracy: 97.7646%, Time: 92.0732s\n",
            "Epoch: 29/30\n",
            "Epoch : 028, Training: Loss: 0.0160, Accuracy: 99.4574%, \n",
            "\t\tValidation : Loss : 0.0804, Accuracy: 97.8304%, Time: 91.9722s\n",
            "Epoch: 30/30\n",
            "Epoch : 029, Training: Loss: 0.0770, Accuracy: 97.5173%, \n",
            "\t\tValidation : Loss : 0.1182, Accuracy: 97.6989%, Time: 92.0888s\n"
          ],
          "name": "stdout"
        }
      ]
    },
    {
      "cell_type": "code",
      "metadata": {
        "id": "Zd0ZKuYa27wF",
        "colab_type": "code",
        "outputId": "f9e09b42-3cdf-428f-8a7f-e3128bc511c6",
        "colab": {
          "base_uri": "https://localhost:8080/",
          "height": 283
        }
      },
      "source": [
        "history = np.array(history)\n",
        "plt.plot(history[:,0:2])\n",
        "plt.legend(['Tr Loss', 'Val Loss'])\n",
        "plt.xlabel('Epoch Number')\n",
        "plt.ylabel('Loss')\n",
        "plt.ylim(0,1)\n",
        "plt.savefig('loss_curve.png')\n",
        "plt.show()"
      ],
      "execution_count": 0,
      "outputs": [
        {
          "output_type": "display_data",
          "data": {
            "image/png": "[encoded data removed]",
            "text/plain": [
              "<Figure size 432x288 with 1 Axes>"
            ]
          },
          "metadata": {
            "tags": [],
            "needs_background": "light"
          }
        }
      ]
    },
    {
      "cell_type": "code",
      "metadata": {
        "id": "tYyGNE697KmJ",
        "colab_type": "code",
        "outputId": "e73e407d-1c9c-45e7-f286-44b5dab2576e",
        "colab": {
          "base_uri": "https://localhost:8080/",
          "height": 283
        }
      },
      "source": [
        "plt.plot(history[:,2:4])\n",
        "plt.legend(['Tr Accuracy', 'Val Accuracy'])\n",
        "plt.xlabel('Epoch Number')\n",
        "plt.ylabel('Accuracy')\n",
        "plt.ylim(0,1)\n",
        "plt.savefig('accuracy_curve.png')\n",
        "plt.show()"
      ],
      "execution_count": 0,
      "outputs": [
        {
          "output_type": "display_data",
          "data": {
            "image/png": "[encoded data removed]",
            "text/plain": [
              "<Figure size 432x288 with 1 Axes>"
            ]
          },
          "metadata": {
            "tags": [],
            "needs_background": "light"
          }
        }
      ]
    },
    {
      "cell_type": "markdown",
      "metadata": {
        "id": "KJIbB4DB7SEp",
        "colab_type": "text"
      },
      "source": [
        "# Train resnet50 model\n",
        "\n"
      ]
    },
    {
      "cell_type": "code",
      "metadata": {
        "id": "LCqBeeZU7Pn8",
        "colab_type": "code",
        "colab": {}
      },
      "source": [
        "model = models.resnet50(pretrained=False)\n"
      ],
      "execution_count": 0,
      "outputs": []
    },
    {
      "cell_type": "code",
      "metadata": {
        "id": "EwI3HOJALGlY",
        "colab_type": "code",
        "outputId": "54bd6c3a-023d-48d6-aaf1-cea3ef930514",
        "colab": {
          "base_uri": "https://localhost:8080/",
          "height": 34
        }
      },
      "source": [
        "# Change the final layer of ResNet50 Model for Transfer Learning\n",
        "fc_inputs = model.fc.in_features\n",
        " \n",
        "model.fc = nn.Sequential(\n",
        "    nn.Linear(in_features=fc_inputs, out_features=num_classes, bias=True),\n",
        "    nn.LogSoftmax(dim=1)\n",
        ")\n",
        "\n",
        "device = torch.device(\"cuda:0\" if torch.cuda.is_available() else \"cpu\")\n",
        "# Convert model to be used on GPU\n",
        "model = model.to(device)\n",
        "print(device)\n",
        "# Define Optimizer and Loss Function\n",
        "# loss_func = nn.CrossEntropyLoss()\n",
        "loss_func = nn.NLLLoss()\n",
        "optimizer = optim.Adam(model.parameters())"
      ],
      "execution_count": 0,
      "outputs": [
        {
          "output_type": "stream",
          "text": [
            "cuda:0\n"
          ],
          "name": "stdout"
        }
      ]
    },
    {
      "cell_type": "code",
      "metadata": {
        "id": "04bQEiUSKLLT",
        "colab_type": "code",
        "outputId": "8b44c94c-aaf4-4492-9794-92a9db4fbef3",
        "colab": {
          "base_uri": "https://localhost:8080/",
          "height": 1000
        }
      },
      "source": [
        "dataset = 'cls_axiom1'\n",
        "# Print the model to be trained\n",
        "#summary(resnet50, input_size=(3, 224, 224), batch_size=bs, device='cuda')\n",
        "\n",
        "# Train the model for 30 epochs\n",
        "num_epochs = 60\n",
        "trained_model, history = train_and_validate(model, loss_func, optimizer, num_epochs)\n",
        "\n",
        "torch.save(history, dataset+'_history.pt')"
      ],
      "execution_count": 0,
      "outputs": [
        {
          "output_type": "stream",
          "text": [
            "Epoch: 1/60\n",
            "Epoch : 000, Training: Loss: 2.1485, Accuracy: 40.8912%, \n",
            "\t\tValidation : Loss : 2.0565, Accuracy: 44.7074%, Time: 94.1373s\n",
            "Epoch: 2/60\n",
            "Epoch : 001, Training: Loss: 1.6708, Accuracy: 51.3976%, \n",
            "\t\tValidation : Loss : 1.9020, Accuracy: 44.9704%, Time: 93.7283s\n",
            "Epoch: 3/60\n",
            "Epoch : 002, Training: Loss: 1.4222, Accuracy: 57.8099%, \n",
            "\t\tValidation : Loss : 2.4473, Accuracy: 54.3721%, Time: 93.8269s\n",
            "Epoch: 4/60\n",
            "Epoch : 003, Training: Loss: 1.2335, Accuracy: 63.4495%, \n",
            "\t\tValidation : Loss : 1.4131, Accuracy: 62.5904%, Time: 93.8507s\n",
            "Epoch: 5/60\n",
            "Epoch : 004, Training: Loss: 1.1155, Accuracy: 66.9023%, \n",
            "\t\tValidation : Loss : 9.3233, Accuracy: 46.8113%, Time: 93.5932s\n",
            "Epoch: 6/60\n",
            "Epoch : 005, Training: Loss: 0.9170, Accuracy: 72.8050%, \n",
            "\t\tValidation : Loss : 1.2999, Accuracy: 62.7219%, Time: 93.3464s\n",
            "Epoch: 7/60\n",
            "Epoch : 006, Training: Loss: 0.8297, Accuracy: 75.0247%, \n",
            "\t\tValidation : Loss : 1.4260, Accuracy: 60.2893%, Time: 93.4543s\n",
            "Epoch: 8/60\n",
            "Epoch : 007, Training: Loss: 0.7566, Accuracy: 77.3430%, \n",
            "\t\tValidation : Loss : 1.3950, Accuracy: 68.1788%, Time: 93.3634s\n",
            "Epoch: 9/60\n",
            "Epoch : 008, Training: Loss: 0.6780, Accuracy: 79.5133%, \n",
            "\t\tValidation : Loss : 1.0963, Accuracy: 72.1236%, Time: 93.2744s\n",
            "Epoch: 10/60\n",
            "Epoch : 009, Training: Loss: 0.5493, Accuracy: 83.5416%, \n",
            "\t\tValidation : Loss : 1.3317, Accuracy: 61.9987%, Time: 93.4920s\n",
            "Epoch: 11/60\n",
            "Epoch : 010, Training: Loss: 0.5612, Accuracy: 82.7688%, \n",
            "\t\tValidation : Loss : 0.6028, Accuracy: 81.1308%, Time: 93.7141s\n",
            "Epoch: 12/60\n",
            "Epoch : 011, Training: Loss: 0.4528, Accuracy: 86.3532%, \n",
            "\t\tValidation : Loss : 0.5083, Accuracy: 84.0894%, Time: 94.0825s\n",
            "Epoch: 13/60\n",
            "Epoch : 012, Training: Loss: 0.4053, Accuracy: 88.2440%, \n",
            "\t\tValidation : Loss : 0.9306, Accuracy: 79.9474%, Time: 94.0850s\n",
            "Epoch: 14/60\n",
            "Epoch : 013, Training: Loss: 0.3864, Accuracy: 88.1453%, \n",
            "\t\tValidation : Loss : 1.1824, Accuracy: 84.1552%, Time: 94.6288s\n",
            "Epoch: 15/60\n",
            "Epoch : 014, Training: Loss: 0.3696, Accuracy: 88.6386%, \n",
            "\t\tValidation : Loss : 2.0148, Accuracy: 61.3412%, Time: 94.4125s\n",
            "Epoch: 16/60\n",
            "Epoch : 015, Training: Loss: 0.4188, Accuracy: 87.7014%, \n",
            "\t\tValidation : Loss : 0.4162, Accuracy: 89.5464%, Time: 94.5364s\n",
            "Epoch: 17/60\n",
            "Epoch : 016, Training: Loss: 0.4050, Accuracy: 88.3755%, \n",
            "\t\tValidation : Loss : 0.6836, Accuracy: 85.2728%, Time: 95.0822s\n",
            "Epoch: 18/60\n",
            "Epoch : 017, Training: Loss: 0.2766, Accuracy: 91.5653%, \n",
            "\t\tValidation : Loss : 0.5838, Accuracy: 86.3248%, Time: 94.9833s\n",
            "Epoch: 19/60\n",
            "Epoch : 018, Training: Loss: 0.3253, Accuracy: 90.3157%, \n",
            "\t\tValidation : Loss : 0.4603, Accuracy: 86.1933%, Time: 94.6512s\n",
            "Epoch: 20/60\n",
            "Epoch : 019, Training: Loss: 0.2470, Accuracy: 92.0585%, \n",
            "\t\tValidation : Loss : 0.3820, Accuracy: 89.6121%, Time: 94.6820s\n",
            "Epoch: 21/60\n",
            "Epoch : 020, Training: Loss: 0.1799, Accuracy: 94.4755%, \n",
            "\t\tValidation : Loss : 0.3973, Accuracy: 89.2834%, Time: 95.0823s\n",
            "Epoch: 22/60\n",
            "Epoch : 021, Training: Loss: 0.2213, Accuracy: 93.1273%, \n",
            "\t\tValidation : Loss : 1.1514, Accuracy: 78.2380%, Time: 94.4008s\n",
            "Epoch: 23/60\n",
            "Epoch : 022, Training: Loss: 0.3016, Accuracy: 91.2200%, \n",
            "\t\tValidation : Loss : 0.6571, Accuracy: 87.9684%, Time: 94.8163s\n",
            "Epoch: 24/60\n",
            "Epoch : 023, Training: Loss: 0.2035, Accuracy: 93.7027%, \n",
            "\t\tValidation : Loss : 0.9556, Accuracy: 80.1446%, Time: 95.1531s\n",
            "Epoch: 25/60\n",
            "Epoch : 024, Training: Loss: 0.2370, Accuracy: 92.7820%, \n",
            "\t\tValidation : Loss : 0.6172, Accuracy: 83.2347%, Time: 95.5675s\n",
            "Epoch: 26/60\n",
            "Epoch : 025, Training: Loss: 0.2685, Accuracy: 92.2394%, \n",
            "\t\tValidation : Loss : 0.7505, Accuracy: 79.8817%, Time: 95.2492s\n",
            "Epoch: 27/60\n",
            "Epoch : 026, Training: Loss: 0.2219, Accuracy: 92.9957%, \n",
            "\t\tValidation : Loss : 0.3707, Accuracy: 90.0723%, Time: 95.1644s\n",
            "Epoch: 28/60\n",
            "Epoch : 027, Training: Loss: 0.1138, Accuracy: 96.2348%, \n",
            "\t\tValidation : Loss : 0.3676, Accuracy: 89.2834%, Time: 94.9644s\n",
            "Epoch: 29/60\n",
            "Epoch : 028, Training: Loss: 0.0983, Accuracy: 96.6458%, \n",
            "\t\tValidation : Loss : 0.3810, Accuracy: 89.6121%, Time: 95.0562s\n",
            "Epoch: 30/60\n",
            "Epoch : 029, Training: Loss: 0.1072, Accuracy: 96.7609%, \n",
            "\t\tValidation : Loss : 0.6685, Accuracy: 90.6640%, Time: 95.4591s\n",
            "Epoch: 31/60\n",
            "Epoch : 030, Training: Loss: 0.1132, Accuracy: 96.4157%, \n",
            "\t\tValidation : Loss : 0.6128, Accuracy: 83.6292%, Time: 95.2191s\n",
            "Epoch: 32/60\n",
            "Epoch : 031, Training: Loss: 0.2143, Accuracy: 93.7192%, \n",
            "\t\tValidation : Loss : 0.5228, Accuracy: 91.7160%, Time: 95.3316s\n",
            "Epoch: 33/60\n",
            "Epoch : 032, Training: Loss: 0.1427, Accuracy: 95.3798%, \n",
            "\t\tValidation : Loss : 1.0311, Accuracy: 86.6535%, Time: 95.0461s\n",
            "Epoch: 34/60\n",
            "Epoch : 033, Training: Loss: 0.2578, Accuracy: 92.4367%, \n",
            "\t\tValidation : Loss : 0.3562, Accuracy: 90.1381%, Time: 95.1656s\n",
            "Epoch: 35/60\n",
            "Epoch : 034, Training: Loss: 0.2295, Accuracy: 93.1766%, \n",
            "\t\tValidation : Loss : 0.6125, Accuracy: 91.6502%, Time: 95.1884s\n",
            "Epoch: 36/60\n",
            "Epoch : 035, Training: Loss: 0.1183, Accuracy: 96.3334%, \n",
            "\t\tValidation : Loss : 0.3302, Accuracy: 89.9408%, Time: 95.5210s\n",
            "Epoch: 37/60\n",
            "Epoch : 036, Training: Loss: 0.1219, Accuracy: 96.1855%, \n",
            "\t\tValidation : Loss : 0.5139, Accuracy: 87.9684%, Time: 96.0285s\n",
            "Epoch: 38/60\n",
            "Epoch : 037, Training: Loss: 0.1400, Accuracy: 95.5936%, \n",
            "\t\tValidation : Loss : 0.3851, Accuracy: 90.0723%, Time: 96.7005s\n",
            "Epoch: 39/60\n",
            "Epoch : 038, Training: Loss: 0.1201, Accuracy: 96.3006%, \n",
            "\t\tValidation : Loss : 0.3265, Accuracy: 91.7817%, Time: 96.6120s\n",
            "Epoch: 40/60\n",
            "Epoch : 039, Training: Loss: 0.1199, Accuracy: 96.4814%, \n",
            "\t\tValidation : Loss : 0.2150, Accuracy: 94.7403%, Time: 96.9780s\n",
            "Epoch: 41/60\n",
            "Epoch : 040, Training: Loss: 0.1119, Accuracy: 96.5965%, \n",
            "\t\tValidation : Loss : 1.9799, Accuracy: 73.3070%, Time: 97.1778s\n",
            "Epoch: 42/60\n",
            "Epoch : 041, Training: Loss: 0.5134, Accuracy: 85.6297%, \n",
            "\t\tValidation : Loss : 0.3975, Accuracy: 88.7574%, Time: 97.0829s\n",
            "Epoch: 43/60\n",
            "Epoch : 042, Training: Loss: 0.1517, Accuracy: 95.1496%, \n",
            "\t\tValidation : Loss : 0.2194, Accuracy: 94.0828%, Time: 97.3806s\n",
            "Epoch: 44/60\n",
            "Epoch : 043, Training: Loss: 0.1321, Accuracy: 96.1526%, \n",
            "\t\tValidation : Loss : 0.2297, Accuracy: 93.9513%, Time: 96.7376s\n",
            "Epoch: 45/60\n",
            "Epoch : 044, Training: Loss: 0.0887, Accuracy: 97.2706%, \n",
            "\t\tValidation : Loss : 0.1994, Accuracy: 94.5431%, Time: 95.2577s\n",
            "Epoch: 46/60\n",
            "Epoch : 045, Training: Loss: 0.0894, Accuracy: 97.2871%, \n",
            "\t\tValidation : Loss : 0.2318, Accuracy: 94.8060%, Time: 97.6341s\n",
            "Epoch: 47/60\n",
            "Epoch : 046, Training: Loss: 0.0497, Accuracy: 98.4216%, \n",
            "\t\tValidation : Loss : 0.2449, Accuracy: 95.0033%, Time: 96.9102s\n",
            "Epoch: 48/60\n",
            "Epoch : 047, Training: Loss: 0.0600, Accuracy: 98.2243%, \n",
            "\t\tValidation : Loss : 0.3071, Accuracy: 92.2419%, Time: 96.2450s\n",
            "Epoch: 49/60\n",
            "Epoch : 048, Training: Loss: 0.1327, Accuracy: 96.3170%, \n",
            "\t\tValidation : Loss : 0.1855, Accuracy: 96.2525%, Time: 96.1262s\n",
            "Epoch: 50/60\n",
            "Epoch : 049, Training: Loss: 0.1118, Accuracy: 96.8760%, \n",
            "\t\tValidation : Loss : 0.2745, Accuracy: 93.5569%, Time: 97.1718s\n",
            "Epoch: 51/60\n",
            "Epoch : 050, Training: Loss: 0.0762, Accuracy: 97.5008%, \n",
            "\t\tValidation : Loss : 0.3191, Accuracy: 90.9270%, Time: 97.3112s\n",
            "Epoch: 52/60\n",
            "Epoch : 051, Training: Loss: 0.0494, Accuracy: 98.4709%, \n",
            "\t\tValidation : Loss : 0.2296, Accuracy: 94.3458%, Time: 97.5666s\n",
            "Epoch: 53/60\n",
            "Epoch : 052, Training: Loss: 0.1587, Accuracy: 95.3634%, \n",
            "\t\tValidation : Loss : 0.2223, Accuracy: 94.0171%, Time: 97.1624s\n",
            "Epoch: 54/60\n",
            "Epoch : 053, Training: Loss: 0.0745, Accuracy: 97.7310%, \n",
            "\t\tValidation : Loss : 0.2409, Accuracy: 93.4911%, Time: 97.6218s\n",
            "Epoch: 55/60\n",
            "Epoch : 054, Training: Loss: 0.0844, Accuracy: 97.5501%, \n",
            "\t\tValidation : Loss : 0.2425, Accuracy: 94.8718%, Time: 96.8450s\n",
            "Epoch: 56/60\n",
            "Epoch : 055, Training: Loss: 0.0561, Accuracy: 98.3065%, \n",
            "\t\tValidation : Loss : 0.2283, Accuracy: 95.2663%, Time: 96.5054s\n",
            "Epoch: 57/60\n",
            "Epoch : 056, Training: Loss: 0.0980, Accuracy: 97.2213%, \n",
            "\t\tValidation : Loss : 0.3583, Accuracy: 92.4392%, Time: 96.0616s\n",
            "Epoch: 58/60\n",
            "Epoch : 057, Training: Loss: 0.1853, Accuracy: 94.7057%, \n",
            "\t\tValidation : Loss : 0.1930, Accuracy: 94.5431%, Time: 96.0941s\n",
            "Epoch: 59/60\n",
            "Epoch : 058, Training: Loss: 0.0456, Accuracy: 98.5367%, \n",
            "\t\tValidation : Loss : 0.1510, Accuracy: 95.9237%, Time: 96.1772s\n",
            "Epoch: 60/60\n",
            "Epoch : 059, Training: Loss: 0.0414, Accuracy: 98.7997%, \n",
            "\t\tValidation : Loss : 0.1336, Accuracy: 97.0414%, Time: 96.0057s\n"
          ],
          "name": "stdout"
        }
      ]
    },
    {
      "cell_type": "code",
      "metadata": {
        "id": "sDzP025sKQTD",
        "colab_type": "code",
        "outputId": "36f51fcd-006c-46d1-a590-d93909543093",
        "colab": {
          "base_uri": "https://localhost:8080/",
          "height": 283
        }
      },
      "source": [
        "history = np.array(history)\n",
        "plt.plot(history[:,0:2])\n",
        "plt.legend(['Tr Loss', 'Val Loss'])\n",
        "plt.xlabel('Epoch Number')\n",
        "plt.ylabel('Loss')\n",
        "plt.ylim(0,3)\n",
        "plt.savefig('loss_curve.png')\n",
        "plt.show()"
      ],
      "execution_count": 0,
      "outputs": [
        {
          "output_type": "display_data",
          "data": {
            "image/png": "[encoded data removed]",
            "text/plain": [
              "<Figure size 432x288 with 1 Axes>"
            ]
          },
          "metadata": {
            "tags": [],
            "needs_background": "light"
          }
        }
      ]
    },
    {
      "cell_type": "code",
      "metadata": {
        "id": "Vr6JS2fLedeE",
        "colab_type": "code",
        "outputId": "319f9a16-cf4d-4790-cb19-e84b04587cdf",
        "colab": {
          "base_uri": "https://localhost:8080/",
          "height": 283
        }
      },
      "source": [
        "plt.plot(history[:,2:4])\n",
        "plt.legend(['Tr Accuracy', 'Val Accuracy'])\n",
        "plt.xlabel('Epoch Number')\n",
        "plt.ylabel('Accuracy')\n",
        "plt.ylim(0,1)\n",
        "plt.savefig('accuracy_curve.png')\n",
        "plt.show()"
      ],
      "execution_count": 0,
      "outputs": [
        {
          "output_type": "display_data",
          "data": {
            "image/png": "[encoded data removed]",
            "text/plain": [
              "<Figure size 432x288 with 1 Axes>"
            ]
          },
          "metadata": {
            "tags": [],
            "needs_background": "light"
          }
        }
      ]
    },
    {
      "cell_type": "markdown",
      "metadata": {
        "id": "u4oSCubu13bJ",
        "colab_type": "text"
      },
      "source": [
        "# Fine turning Vgg16 model"
      ]
    },
    {
      "cell_type": "code",
      "metadata": {
        "id": "fsJvnmQJ2Lbq",
        "colab_type": "code",
        "colab": {}
      },
      "source": [
        "vgg16 = models.vgg16(pretrained=True)\n",
        "print(vgg16)"
      ],
      "execution_count": 0,
      "outputs": []
    },
    {
      "cell_type": "code",
      "metadata": {
        "id": "Dwa3U5zp5-8a",
        "colab_type": "code",
        "colab": {}
      },
      "source": [
        "count = 0\n",
        "for child in vgg16.features.children():\n",
        "  count+=1\n",
        "  if count < 16:\n",
        "    for param in child.parameters():\n",
        "      param.requires_grad = False\n"
      ],
      "execution_count": 0,
      "outputs": []
    },
    {
      "cell_type": "code",
      "metadata": {
        "id": "I4m_W1pd2ydA",
        "colab_type": "code",
        "outputId": "f02ea7b2-2632-40b7-9c54-dc3d7f5b217c",
        "colab": {
          "base_uri": "https://localhost:8080/",
          "height": 34
        }
      },
      "source": [
        "# Change the final layer of Vgg16 Model for Transfer Learning\n",
        " \n",
        "vgg16.classifier = nn.Sequential(\n",
        "    nn.Linear(in_features=25088, out_features=4096, bias=True),\n",
        "    nn.ReLU(inplace=True),\n",
        "    nn.Dropout(p=0.5, inplace=False),\n",
        "    nn.Linear(in_features=4096, out_features=256, bias=True), \n",
        "    nn.ReLU(inplace=True),\n",
        "    nn.Dropout(p=0.5, inplace=False),\n",
        "    nn.Linear(in_features=256, out_features=num_classes, bias=True),\n",
        "    nn.LogSoftmax(dim=1) # For using NLLLoss()\n",
        ")\n",
        "\n",
        "device = torch.device(\"cuda:0\" if torch.cuda.is_available() else \"cpu\")\n",
        "# Convert model to be used on GPU\n",
        "vgg16 = vgg16.to(device)\n",
        "print(device)\n",
        "# Define Optimizer and Loss Function\n",
        "# loss_func = nn.CrossEntropyLoss()\n",
        "loss_func = nn.NLLLoss()\n",
        "optimizer = optim.Adam(vgg16.parameters())"
      ],
      "execution_count": 0,
      "outputs": [
        {
          "output_type": "stream",
          "text": [
            "cuda:0\n"
          ],
          "name": "stdout"
        }
      ]
    },
    {
      "cell_type": "code",
      "metadata": {
        "id": "srV3AEqK33QB",
        "colab_type": "code",
        "outputId": "299626ce-aeb2-411f-c736-d74890ac938e",
        "colab": {
          "base_uri": "https://localhost:8080/",
          "height": 1000
        }
      },
      "source": [
        "dataset = 'cls_axiom_vgg16'\n",
        "# Print the model to be trained\n",
        "#summary(resnet50, input_size=(3, 224, 224), batch_size=bs, device='cuda')\n",
        "\n",
        "# Train the model for 30 epochs\n",
        "num_epochs = 30\n",
        "trained_model, history = train_and_validate(vgg16, loss_func, optimizer, num_epochs)\n"
      ],
      "execution_count": 0,
      "outputs": [
        {
          "output_type": "stream",
          "text": [
            "Epoch: 1/30\n",
            "Epoch : 000, Training: Loss: 2.3784, Accuracy: 32.5222%, \n",
            "\t\tValidation : Loss : 2.0269, Accuracy: 42.0118%, Time: 88.8441s\n",
            "Epoch: 2/30\n",
            "Epoch : 001, Training: Loss: 1.8224, Accuracy: 46.2183%, \n",
            "\t\tValidation : Loss : 1.7007, Accuracy: 51.0848%, Time: 88.3262s\n",
            "Epoch: 3/30\n",
            "Epoch : 002, Training: Loss: 1.6825, Accuracy: 48.7340%, \n",
            "\t\tValidation : Loss : 1.3146, Accuracy: 55.2268%, Time: 88.7491s\n",
            "Epoch: 4/30\n",
            "Epoch : 003, Training: Loss: 1.4188, Accuracy: 56.3959%, \n",
            "\t\tValidation : Loss : 1.3240, Accuracy: 58.0539%, Time: 89.2220s\n",
            "Epoch: 5/30\n",
            "Epoch : 004, Training: Loss: 1.3171, Accuracy: 59.6514%, \n",
            "\t\tValidation : Loss : 1.1451, Accuracy: 61.4070%, Time: 89.3851s\n",
            "Epoch: 6/30\n",
            "Epoch : 005, Training: Loss: 1.2216, Accuracy: 63.3344%, \n",
            "\t\tValidation : Loss : 1.0751, Accuracy: 65.1545%, Time: 89.8076s\n",
            "Epoch: 7/30\n",
            "Epoch : 006, Training: Loss: 0.9825, Accuracy: 69.8290%, \n",
            "\t\tValidation : Loss : 0.8850, Accuracy: 73.5700%, Time: 90.1100s\n",
            "Epoch: 8/30\n",
            "Epoch : 007, Training: Loss: 0.8227, Accuracy: 75.6495%, \n",
            "\t\tValidation : Loss : 0.7085, Accuracy: 77.9750%, Time: 90.3328s\n",
            "Epoch: 9/30\n",
            "Epoch : 008, Training: Loss: 0.7459, Accuracy: 77.7540%, \n",
            "\t\tValidation : Loss : 0.7740, Accuracy: 75.3452%, Time: 90.4073s\n",
            "Epoch: 10/30\n",
            "Epoch : 009, Training: Loss: 0.6138, Accuracy: 82.1440%, \n",
            "\t\tValidation : Loss : 0.5507, Accuracy: 82.5115%, Time: 90.5646s\n",
            "Epoch: 11/30\n",
            "Epoch : 010, Training: Loss: 0.7287, Accuracy: 79.7928%, \n",
            "\t\tValidation : Loss : 0.7399, Accuracy: 76.6601%, Time: 90.3244s\n",
            "Epoch: 12/30\n",
            "Epoch : 011, Training: Loss: 0.5395, Accuracy: 84.4130%, \n",
            "\t\tValidation : Loss : 0.6011, Accuracy: 83.5634%, Time: 89.7666s\n",
            "Epoch: 13/30\n",
            "Epoch : 012, Training: Loss: 0.5306, Accuracy: 85.3338%, \n",
            "\t\tValidation : Loss : 1.2624, Accuracy: 78.5010%, Time: 89.6451s\n",
            "Epoch: 14/30\n",
            "Epoch : 013, Training: Loss: 0.5188, Accuracy: 85.3995%, \n",
            "\t\tValidation : Loss : 0.7704, Accuracy: 77.1203%, Time: 89.5233s\n",
            "Epoch: 15/30\n",
            "Epoch : 014, Training: Loss: 0.4611, Accuracy: 87.3232%, \n",
            "\t\tValidation : Loss : 0.5537, Accuracy: 84.2867%, Time: 90.1145s\n",
            "Epoch: 16/30\n",
            "Epoch : 015, Training: Loss: 0.3781, Accuracy: 89.6087%, \n",
            "\t\tValidation : Loss : 1.0364, Accuracy: 73.3070%, Time: 89.9635s\n",
            "Epoch: 17/30\n",
            "Epoch : 016, Training: Loss: 0.4888, Accuracy: 86.5340%, \n",
            "\t\tValidation : Loss : 0.5140, Accuracy: 85.5358%, Time: 90.2815s\n",
            "Epoch: 18/30\n",
            "Epoch : 017, Training: Loss: 0.3527, Accuracy: 90.3650%, \n",
            "\t\tValidation : Loss : 0.5198, Accuracy: 85.4701%, Time: 90.3478s\n",
            "Epoch: 19/30\n",
            "Epoch : 018, Training: Loss: 0.3290, Accuracy: 90.7267%, \n",
            "\t\tValidation : Loss : 0.3935, Accuracy: 90.0066%, Time: 89.8280s\n",
            "Epoch: 20/30\n",
            "Epoch : 019, Training: Loss: 0.2959, Accuracy: 91.8448%, \n",
            "\t\tValidation : Loss : 0.4024, Accuracy: 88.6917%, Time: 90.0278s\n",
            "Epoch: 21/30\n",
            "Epoch : 020, Training: Loss: 0.2671, Accuracy: 92.5354%, \n",
            "\t\tValidation : Loss : 0.4789, Accuracy: 88.2314%, Time: 89.7185s\n",
            "Epoch: 22/30\n",
            "Epoch : 021, Training: Loss: 0.3777, Accuracy: 89.4278%, \n",
            "\t\tValidation : Loss : 0.3883, Accuracy: 89.6778%, Time: 89.8754s\n",
            "Epoch: 23/30\n",
            "Epoch : 022, Training: Loss: 0.4562, Accuracy: 88.8852%, \n",
            "\t\tValidation : Loss : 0.3747, Accuracy: 90.0723%, Time: 89.7927s\n",
            "Epoch: 24/30\n",
            "Epoch : 023, Training: Loss: 0.3916, Accuracy: 89.7731%, \n",
            "\t\tValidation : Loss : 0.5379, Accuracy: 84.2209%, Time: 89.9435s\n",
            "Epoch: 25/30\n",
            "Epoch : 024, Training: Loss: 0.3422, Accuracy: 91.1378%, \n",
            "\t\tValidation : Loss : 0.5628, Accuracy: 83.4320%, Time: 89.9567s\n",
            "Epoch: 26/30\n",
            "Epoch : 025, Training: Loss: 0.2688, Accuracy: 93.0122%, \n",
            "\t\tValidation : Loss : 0.4504, Accuracy: 89.4806%, Time: 89.6263s\n",
            "Epoch: 27/30\n",
            "Epoch : 026, Training: Loss: 0.2367, Accuracy: 93.5548%, \n",
            "\t\tValidation : Loss : 0.4828, Accuracy: 89.0861%, Time: 89.4094s\n",
            "Epoch: 28/30\n",
            "Epoch : 027, Training: Loss: 0.2874, Accuracy: 92.5189%, \n",
            "\t\tValidation : Loss : 0.4398, Accuracy: 92.1105%, Time: 88.9988s\n",
            "Epoch: 29/30\n",
            "Epoch : 028, Training: Loss: 0.3002, Accuracy: 91.9434%, \n",
            "\t\tValidation : Loss : 0.4039, Accuracy: 89.5464%, Time: 88.0975s\n",
            "Epoch: 30/30\n",
            "Epoch : 029, Training: Loss: 0.2418, Accuracy: 93.5548%, \n",
            "\t\tValidation : Loss : 0.3274, Accuracy: 91.7160%, Time: 88.0703s\n"
          ],
          "name": "stdout"
        }
      ]
    },
    {
      "cell_type": "code",
      "metadata": {
        "id": "B0GIn0se4CjN",
        "colab_type": "code",
        "outputId": "edef1926-b3e7-4121-9b03-aa8de8b3f970",
        "colab": {
          "base_uri": "https://localhost:8080/",
          "height": 283
        }
      },
      "source": [
        "history = np.array(history)\n",
        "plt.plot(history[:,0:2])\n",
        "plt.legend(['Tr Loss', 'Val Loss'])\n",
        "plt.xlabel('Epoch Number')\n",
        "plt.ylabel('Loss')\n",
        "plt.ylim(0,3)\n",
        "plt.savefig('loss_curve.png')\n",
        "plt.show()"
      ],
      "execution_count": 0,
      "outputs": [
        {
          "output_type": "display_data",
          "data": {
            "image/png": "[encoded data removed]",
            "text/plain": [
              "<Figure size 432x288 with 1 Axes>"
            ]
          },
          "metadata": {
            "tags": [],
            "needs_background": "light"
          }
        }
      ]
    },
    {
      "cell_type": "code",
      "metadata": {
        "id": "Dql2leA99JLv",
        "colab_type": "code",
        "outputId": "c1153f1f-a1bb-414c-b166-6bf55cbfa012",
        "colab": {
          "base_uri": "https://localhost:8080/",
          "height": 283
        }
      },
      "source": [
        "plt.plot(history[:,2:4])\n",
        "plt.legend(['Tr Accuracy', 'Val Accuracy'])\n",
        "plt.xlabel('Epoch Number')\n",
        "plt.ylabel('Accuracy')\n",
        "plt.ylim(0,1)\n",
        "plt.savefig('accuracy_curve.png')\n",
        "plt.show()"
      ],
      "execution_count": 0,
      "outputs": [
        {
          "output_type": "display_data",
          "data": {
            "image/png": "[encoded data removed]",
            "text/plain": [
              "<Figure size 432x288 with 1 Axes>"
            ]
          },
          "metadata": {
            "tags": [],
            "needs_background": "light"
          }
        }
      ]
    },
    {
      "cell_type": "markdown",
      "metadata": {
        "id": "44wr4aw82Gnk",
        "colab_type": "text"
      },
      "source": [
        "# Train Vgg16 model"
      ]
    },
    {
      "cell_type": "code",
      "metadata": {
        "id": "x81e2Lgz9OQ0",
        "colab_type": "code",
        "outputId": "d43f36f1-5612-46d3-ddeb-0bc191b9bca0",
        "colab": {
          "base_uri": "https://localhost:8080/",
          "height": 34
        }
      },
      "source": [
        "vgg16_model = models.vgg16(pretrained=False)\n",
        "\n",
        "vgg16_model.classifier = nn.Sequential(\n",
        "    nn.Linear(in_features=25088, out_features=4096, bias=True),\n",
        "    nn.ReLU(inplace=True),\n",
        "    nn.Dropout(p=0.5, inplace=False),\n",
        "    nn.Linear(in_features=4096, out_features=256, bias=True), \n",
        "    nn.ReLU(inplace=True),\n",
        "    nn.Dropout(p=0.5, inplace=False),\n",
        "    nn.Linear(in_features=256, out_features=num_classes, bias=True),\n",
        "    nn.LogSoftmax(dim=1) # For using NLLLoss()\n",
        ")\n",
        "\n",
        "device = torch.device(\"cuda:0\" if torch.cuda.is_available() else \"cpu\")\n",
        "# Convert model to be used on GPU\n",
        "vgg16_model = vgg16_model.to(device)\n",
        "print(device)\n",
        "# Define Optimizer and Loss Function\n",
        "# loss_func = nn.CrossEntropyLoss()\n",
        "loss_func = nn.NLLLoss()\n",
        "optimizer = optim.Adam(vgg16_model.parameters())"
      ],
      "execution_count": 0,
      "outputs": [
        {
          "output_type": "stream",
          "text": [
            "cuda:0\n"
          ],
          "name": "stdout"
        }
      ]
    },
    {
      "cell_type": "code",
      "metadata": {
        "id": "FRxL7mFY9Onb",
        "colab_type": "code",
        "outputId": "01d0ac94-a28e-419f-d6e8-983323dd4f01",
        "colab": {
          "base_uri": "https://localhost:8080/",
          "height": 1000
        }
      },
      "source": [
        "dataset = 'cls_axiom_vgg16_model'\n",
        "# Print the model to be trained\n",
        "# Train the model for 30 epochs\n",
        "num_epochs = 60\n",
        "trained_model, history = train_and_validate(vgg16_model, loss_func, optimizer, num_epochs)"
      ],
      "execution_count": 0,
      "outputs": [
        {
          "output_type": "stream",
          "text": [
            "Epoch: 1/60\n",
            "Epoch : 000, Training: Loss: 3.7011, Accuracy: 27.1128%, \n",
            "\t\tValidation : Loss : 2.1812, Accuracy: 31.2952%, Time: 246.3186s\n",
            "Epoch: 2/60\n",
            "Epoch : 001, Training: Loss: 2.1805, Accuracy: 33.2621%, \n",
            "\t\tValidation : Loss : 2.5544, Accuracy: 23.5371%, Time: 246.1280s\n",
            "Epoch: 3/60\n",
            "Epoch : 002, Training: Loss: 2.0130, Accuracy: 37.5041%, \n",
            "\t\tValidation : Loss : 1.8791, Accuracy: 43.2610%, Time: 245.0351s\n",
            "Epoch: 4/60\n",
            "Epoch : 003, Training: Loss: 1.8214, Accuracy: 44.6235%, \n",
            "\t\tValidation : Loss : 1.8090, Accuracy: 48.3235%, Time: 243.6282s\n",
            "Epoch: 5/60\n",
            "Epoch : 004, Training: Loss: 1.6257, Accuracy: 51.3976%, \n",
            "\t\tValidation : Loss : 1.4473, Accuracy: 57.8567%, Time: 243.2885s\n",
            "Epoch: 6/60\n",
            "Epoch : 005, Training: Loss: 1.4285, Accuracy: 58.4018%, \n",
            "\t\tValidation : Loss : 1.2760, Accuracy: 64.2341%, Time: 243.1960s\n",
            "Epoch: 7/60\n",
            "Epoch : 006, Training: Loss: 1.2509, Accuracy: 63.6797%, \n",
            "\t\tValidation : Loss : 1.1760, Accuracy: 66.8639%, Time: 243.4364s\n",
            "Epoch: 8/60\n",
            "Epoch : 007, Training: Loss: 1.1201, Accuracy: 68.1519%, \n",
            "\t\tValidation : Loss : 1.1228, Accuracy: 69.1650%, Time: 245.2646s\n",
            "Epoch: 9/60\n",
            "Epoch : 008, Training: Loss: 0.9712, Accuracy: 72.9037%, \n",
            "\t\tValidation : Loss : 0.8922, Accuracy: 75.2794%, Time: 248.7052s\n",
            "Epoch: 10/60\n",
            "Epoch : 009, Training: Loss: 0.9316, Accuracy: 72.7063%, \n",
            "\t\tValidation : Loss : 0.8938, Accuracy: 73.8988%, Time: 247.9429s\n",
            "Epoch: 11/60\n",
            "Epoch : 010, Training: Loss: 0.7493, Accuracy: 78.7241%, \n",
            "\t\tValidation : Loss : 0.7700, Accuracy: 78.3037%, Time: 246.8857s\n",
            "Epoch: 12/60\n",
            "Epoch : 011, Training: Loss: 0.6893, Accuracy: 80.0723%, \n",
            "\t\tValidation : Loss : 0.5967, Accuracy: 84.6811%, Time: 246.4405s\n",
            "Epoch: 13/60\n",
            "Epoch : 012, Training: Loss: 0.6200, Accuracy: 81.7659%, \n",
            "\t\tValidation : Loss : 0.5766, Accuracy: 84.6154%, Time: 246.2916s\n",
            "Epoch: 14/60\n",
            "Epoch : 013, Training: Loss: 0.5288, Accuracy: 84.7912%, \n",
            "\t\tValidation : Loss : 0.5272, Accuracy: 86.4563%, Time: 243.8864s\n",
            "Epoch: 15/60\n",
            "Epoch : 014, Training: Loss: 0.4870, Accuracy: 86.0901%, \n",
            "\t\tValidation : Loss : 0.4755, Accuracy: 87.2452%, Time: 243.1986s\n",
            "Epoch: 16/60\n",
            "Epoch : 015, Training: Loss: 0.4142, Accuracy: 88.0303%, \n",
            "\t\tValidation : Loss : 0.4214, Accuracy: 89.8751%, Time: 242.9989s\n",
            "Epoch: 17/60\n",
            "Epoch : 016, Training: Loss: 0.3935, Accuracy: 88.9181%, \n",
            "\t\tValidation : Loss : 0.3826, Accuracy: 90.7298%, Time: 245.5562s\n",
            "Epoch: 18/60\n",
            "Epoch : 017, Training: Loss: 0.3584, Accuracy: 89.8224%, \n",
            "\t\tValidation : Loss : 0.4079, Accuracy: 89.2176%, Time: 247.6684s\n",
            "Epoch: 19/60\n",
            "Epoch : 018, Training: Loss: 0.3262, Accuracy: 90.7103%, \n",
            "\t\tValidation : Loss : 0.8382, Accuracy: 85.4701%, Time: 247.4718s\n",
            "Epoch: 20/60\n",
            "Epoch : 019, Training: Loss: 0.3806, Accuracy: 88.9674%, \n",
            "\t\tValidation : Loss : 0.3363, Accuracy: 92.0447%, Time: 247.4863s\n",
            "Epoch: 21/60\n",
            "Epoch : 020, Training: Loss: 0.2834, Accuracy: 92.1407%, \n",
            "\t\tValidation : Loss : 0.3302, Accuracy: 90.6640%, Time: 247.2874s\n",
            "Epoch: 22/60\n",
            "Epoch : 021, Training: Loss: 0.2561, Accuracy: 92.9135%, \n",
            "\t\tValidation : Loss : 0.3861, Accuracy: 91.3872%, Time: 245.7009s\n",
            "Epoch: 23/60\n",
            "Epoch : 022, Training: Loss: 0.3036, Accuracy: 91.0062%, \n",
            "\t\tValidation : Loss : 0.3190, Accuracy: 91.5187%, Time: 243.9660s\n",
            "Epoch: 24/60\n",
            "Epoch : 023, Training: Loss: 0.2279, Accuracy: 93.5712%, \n",
            "\t\tValidation : Loss : 0.4436, Accuracy: 91.3872%, Time: 242.9041s\n",
            "Epoch: 25/60\n",
            "Epoch : 024, Training: Loss: 0.2233, Accuracy: 93.7027%, \n",
            "\t\tValidation : Loss : 0.3184, Accuracy: 93.6884%, Time: 242.5745s\n",
            "Epoch: 26/60\n",
            "Epoch : 025, Training: Loss: 0.2045, Accuracy: 94.1467%, \n",
            "\t\tValidation : Loss : 0.3143, Accuracy: 92.8337%, Time: 242.8811s\n",
            "Epoch: 27/60\n",
            "Epoch : 026, Training: Loss: 0.2136, Accuracy: 93.9329%, \n",
            "\t\tValidation : Loss : 0.3253, Accuracy: 92.7022%, Time: 243.7066s\n",
            "Epoch: 28/60\n",
            "Epoch : 027, Training: Loss: 0.2074, Accuracy: 93.9000%, \n",
            "\t\tValidation : Loss : 0.5130, Accuracy: 93.3596%, Time: 242.7830s\n",
            "Epoch: 29/60\n",
            "Epoch : 028, Training: Loss: 0.2548, Accuracy: 93.2424%, \n",
            "\t\tValidation : Loss : 0.3112, Accuracy: 93.8856%, Time: 242.0541s\n",
            "Epoch: 30/60\n",
            "Epoch : 029, Training: Loss: 0.1756, Accuracy: 94.9359%, \n",
            "\t\tValidation : Loss : 0.2632, Accuracy: 94.9375%, Time: 242.3757s\n",
            "Epoch: 31/60\n",
            "Epoch : 030, Training: Loss: 0.1662, Accuracy: 95.1825%, \n",
            "\t\tValidation : Loss : 0.2865, Accuracy: 92.4392%, Time: 242.3063s\n",
            "Epoch: 32/60\n",
            "Epoch : 031, Training: Loss: 0.1655, Accuracy: 95.1989%, \n",
            "\t\tValidation : Loss : 0.3353, Accuracy: 92.0447%, Time: 242.3309s\n",
            "Epoch: 33/60\n",
            "Epoch : 032, Training: Loss: 0.1908, Accuracy: 94.8866%, \n",
            "\t\tValidation : Loss : 0.2705, Accuracy: 93.8199%, Time: 242.7973s\n",
            "Epoch: 34/60\n",
            "Epoch : 033, Training: Loss: 0.1824, Accuracy: 94.6070%, \n",
            "\t\tValidation : Loss : 0.3075, Accuracy: 93.0966%, Time: 242.8527s\n",
            "Epoch: 35/60\n",
            "Epoch : 034, Training: Loss: 0.1609, Accuracy: 95.4291%, \n",
            "\t\tValidation : Loss : 0.2892, Accuracy: 92.9652%, Time: 242.1726s\n",
            "Epoch: 36/60\n",
            "Epoch : 035, Training: Loss: 0.1346, Accuracy: 95.8566%, \n",
            "\t\tValidation : Loss : 0.2731, Accuracy: 94.2801%, Time: 241.9179s\n",
            "Epoch: 37/60\n",
            "Epoch : 036, Training: Loss: 0.1196, Accuracy: 96.4814%, \n",
            "\t\tValidation : Loss : 0.2704, Accuracy: 94.4773%, Time: 242.0347s\n",
            "Epoch: 38/60\n",
            "Epoch : 037, Training: Loss: 0.1014, Accuracy: 97.2213%, \n",
            "\t\tValidation : Loss : 0.2985, Accuracy: 94.8718%, Time: 244.4977s\n",
            "Epoch: 39/60\n",
            "Epoch : 038, Training: Loss: 0.1124, Accuracy: 96.7609%, \n",
            "\t\tValidation : Loss : 0.2497, Accuracy: 94.7403%, Time: 244.1239s\n",
            "Epoch: 40/60\n",
            "Epoch : 039, Training: Loss: 0.1255, Accuracy: 96.3499%, \n",
            "\t\tValidation : Loss : 0.2931, Accuracy: 95.4635%, Time: 243.7390s\n",
            "Epoch: 41/60\n",
            "Epoch : 040, Training: Loss: 0.1566, Accuracy: 95.9717%, \n",
            "\t\tValidation : Loss : 0.3627, Accuracy: 90.8613%, Time: 243.8513s\n",
            "Epoch: 42/60\n",
            "Epoch : 041, Training: Loss: 0.1288, Accuracy: 96.2841%, \n",
            "\t\tValidation : Loss : 0.2579, Accuracy: 95.2663%, Time: 242.5153s\n",
            "Epoch: 43/60\n",
            "Epoch : 042, Training: Loss: 0.1284, Accuracy: 96.3006%, \n",
            "\t\tValidation : Loss : 0.3007, Accuracy: 94.0828%, Time: 242.2704s\n",
            "Epoch: 44/60\n",
            "Epoch : 043, Training: Loss: 0.1063, Accuracy: 97.1720%, \n",
            "\t\tValidation : Loss : 0.2449, Accuracy: 94.8060%, Time: 242.2710s\n",
            "Epoch: 45/60\n",
            "Epoch : 044, Training: Loss: 0.1215, Accuracy: 96.7774%, \n",
            "\t\tValidation : Loss : 0.2718, Accuracy: 93.5569%, Time: 242.3574s\n",
            "Epoch: 46/60\n",
            "Epoch : 045, Training: Loss: 0.1043, Accuracy: 97.0733%, \n",
            "\t\tValidation : Loss : 0.2912, Accuracy: 92.8337%, Time: 242.1930s\n",
            "Epoch: 47/60\n",
            "Epoch : 046, Training: Loss: 0.0952, Accuracy: 97.2213%, \n",
            "\t\tValidation : Loss : 0.2019, Accuracy: 95.2005%, Time: 243.3211s\n",
            "Epoch: 48/60\n",
            "Epoch : 047, Training: Loss: 0.0936, Accuracy: 97.2049%, \n",
            "\t\tValidation : Loss : 0.2751, Accuracy: 94.2801%, Time: 244.4653s\n",
            "Epoch: 49/60\n",
            "Epoch : 048, Training: Loss: 0.1423, Accuracy: 96.0868%, \n",
            "\t\tValidation : Loss : 0.2769, Accuracy: 94.1486%, Time: 247.4187s\n",
            "Epoch: 50/60\n",
            "Epoch : 049, Training: Loss: 0.1307, Accuracy: 96.1690%, \n",
            "\t\tValidation : Loss : 0.2973, Accuracy: 93.7541%, Time: 248.9903s\n",
            "Epoch: 51/60\n",
            "Epoch : 050, Training: Loss: 0.0925, Accuracy: 97.7146%, \n",
            "\t\tValidation : Loss : 0.2332, Accuracy: 95.9895%, Time: 247.9695s\n",
            "Epoch: 52/60\n",
            "Epoch : 051, Training: Loss: 0.0850, Accuracy: 97.6324%, \n",
            "\t\tValidation : Loss : 0.2447, Accuracy: 94.8060%, Time: 244.2983s\n",
            "Epoch: 53/60\n",
            "Epoch : 052, Training: Loss: 0.0945, Accuracy: 97.2542%, \n",
            "\t\tValidation : Loss : 0.2348, Accuracy: 94.6088%, Time: 244.6599s\n",
            "Epoch: 54/60\n",
            "Epoch : 053, Training: Loss: 0.0805, Accuracy: 97.5995%, \n",
            "\t\tValidation : Loss : 0.2192, Accuracy: 95.1348%, Time: 245.2994s\n",
            "Epoch: 55/60\n",
            "Epoch : 054, Training: Loss: 1.8943, Accuracy: 89.4607%, \n",
            "\t\tValidation : Loss : 0.5678, Accuracy: 86.3905%, Time: 243.7887s\n",
            "Epoch: 56/60\n",
            "Epoch : 055, Training: Loss: 0.2957, Accuracy: 91.4009%, \n",
            "\t\tValidation : Loss : 0.2499, Accuracy: 94.4116%, Time: 244.6965s\n",
            "Epoch: 57/60\n",
            "Epoch : 056, Training: Loss: 0.1565, Accuracy: 95.6593%, \n",
            "\t\tValidation : Loss : 0.2450, Accuracy: 95.0690%, Time: 246.8702s\n",
            "Epoch: 58/60\n",
            "Epoch : 057, Training: Loss: 0.1039, Accuracy: 97.0733%, \n",
            "\t\tValidation : Loss : 0.2711, Accuracy: 93.2281%, Time: 247.4183s\n",
            "Epoch: 59/60\n",
            "Epoch : 058, Training: Loss: 0.0868, Accuracy: 97.5008%, \n",
            "\t\tValidation : Loss : 0.2270, Accuracy: 95.9237%, Time: 248.3049s\n",
            "Epoch: 60/60\n",
            "Epoch : 059, Training: Loss: 0.0859, Accuracy: 97.3857%, \n",
            "\t\tValidation : Loss : 0.2184, Accuracy: 96.1210%, Time: 246.7719s\n"
          ],
          "name": "stdout"
        }
      ]
    },
    {
      "cell_type": "code",
      "metadata": {
        "id": "SvuzahQ39r8t",
        "colab_type": "code",
        "outputId": "1ec10d65-4da7-4f7f-ab18-19b6f2305983",
        "colab": {
          "base_uri": "https://localhost:8080/"
        }
      },
      "source": [
        "history = np.array(history)\n",
        "plt.plot(history[:,0:2])\n",
        "plt.legend(['Tr Loss', 'Val Loss'])\n",
        "plt.xlabel('Epoch Number')\n",
        "plt.ylabel('Loss')\n",
        "plt.ylim(0,3)\n",
        "plt.savefig('loss_curve.png')\n",
        "plt.show()"
      ],
      "execution_count": 0,
      "outputs": [
        {
          "output_type": "display_data",
          "data": {
            "image/png": "[encoded data removed]",
            "text/plain": [
              "<Figure size 432x288 with 1 Axes>"
            ]
          },
          "metadata": {
            "tags": [],
            "needs_background": "light"
          }
        }
      ]
    },
    {
      "cell_type": "code",
      "metadata": {
        "id": "_R6JDwX09tvn",
        "colab_type": "code",
        "outputId": "c18c6ff7-c79b-448e-fcbd-0e73c45fcdc6",
        "colab": {
          "base_uri": "https://localhost:8080/"
        }
      },
      "source": [
        "plt.plot(history[:,2:4])\n",
        "plt.legend(['Tr Accuracy', 'Val Accuracy'])\n",
        "plt.xlabel('Epoch Number')\n",
        "plt.ylabel('Accuracy')\n",
        "plt.ylim(0,1)\n",
        "plt.savefig('accuracy_curve.png')\n",
        "plt.show()"
      ],
      "execution_count": 0,
      "outputs": [
        {
          "output_type": "display_data",
          "data": {
            "image/png": "[encoded data removed]",
            "text/plain": [
              "<Figure size 432x288 with 1 Axes>"
            ]
          },
          "metadata": {
            "tags": [],
            "needs_background": "light"
          }
        }
      ]
    }
  ]
}